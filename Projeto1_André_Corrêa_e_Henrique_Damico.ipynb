{
 "cells": [
  {
   "cell_type": "markdown",
   "source": [
    "# Projeto 1 - Ciência dos Dados"
   ],
   "metadata": {}
  },
  {
   "cell_type": "markdown",
   "source": [
    "Nome: _____\n",
    "\n",
    "Nome: _____"
   ],
   "metadata": {}
  },
  {
   "cell_type": "markdown",
   "source": [
    "Atenção: Serão permitidos grupos de três pessoas, mas com uma rubrica mais exigente. Grupos deste tamanho precisarão fazer um questionário de avaliação de trabalho em equipe"
   ],
   "metadata": {}
  },
  {
   "cell_type": "markdown",
   "source": [
    "___\n",
    "Carregando algumas bibliotecas:"
   ],
   "metadata": {}
  },
  {
   "cell_type": "code",
   "execution_count": 99,
   "source": [
    "%matplotlib inline\r\n",
    "import pandas as pd\r\n",
    "import matplotlib.pyplot as plt\r\n",
    "import numpy as np\r\n",
    "import os\r\n",
    "import re"
   ],
   "outputs": [],
   "metadata": {}
  },
  {
   "cell_type": "code",
   "execution_count": 100,
   "source": [
    "print('Esperamos trabalhar no diretório')\r\n",
    "print(os.getcwd())"
   ],
   "outputs": [
    {
     "output_type": "stream",
     "name": "stdout",
     "text": [
      "Esperamos trabalhar no diretório\n",
      "c:\\Users\\marce\\Desktop\\New folder\n"
     ]
    }
   ],
   "metadata": {
    "scrolled": false
   }
  },
  {
   "cell_type": "markdown",
   "source": [
    "Carregando a base de dados com os tweets classificados como relevantes e não relevantes:"
   ],
   "metadata": {}
  },
  {
   "cell_type": "code",
   "execution_count": 101,
   "source": [
    "filename = 'base_de_dados.xlsx'"
   ],
   "outputs": [],
   "metadata": {}
  },
  {
   "cell_type": "code",
   "execution_count": 102,
   "source": [
    "train = pd.read_excel(filename)\r\n",
    "train.head(5)"
   ],
   "outputs": [
    {
     "output_type": "execute_result",
     "data": {
      "text/html": [
       "<div>\n",
       "<style scoped>\n",
       "    .dataframe tbody tr th:only-of-type {\n",
       "        vertical-align: middle;\n",
       "    }\n",
       "\n",
       "    .dataframe tbody tr th {\n",
       "        vertical-align: top;\n",
       "    }\n",
       "\n",
       "    .dataframe thead th {\n",
       "        text-align: right;\n",
       "    }\n",
       "</style>\n",
       "<table border=\"1\" class=\"dataframe\">\n",
       "  <thead>\n",
       "    <tr style=\"text-align: right;\">\n",
       "      <th></th>\n",
       "      <th>Treinamento</th>\n",
       "      <th>Classificacao</th>\n",
       "    </tr>\n",
       "  </thead>\n",
       "  <tbody>\n",
       "    <tr>\n",
       "      <th>0</th>\n",
       "      <td>quer fazer sua mulher feliz? come ela e da um ...</td>\n",
       "      <td>2</td>\n",
       "    </tr>\n",
       "    <tr>\n",
       "      <th>1</th>\n",
       "      <td>@kimkataguiri que merda estão inventando, kim ...</td>\n",
       "      <td>0</td>\n",
       "    </tr>\n",
       "    <tr>\n",
       "      <th>2</th>\n",
       "      <td>alguém tem o link de spotify hackeado pra iphone?</td>\n",
       "      <td>0</td>\n",
       "    </tr>\n",
       "    <tr>\n",
       "      <th>3</th>\n",
       "      <td>@adr1nztte @charlidamelio mn pelo menos eu ain...</td>\n",
       "      <td>0</td>\n",
       "    </tr>\n",
       "    <tr>\n",
       "      <th>4</th>\n",
       "      <td>favela venceu e meu iphone tá vindo hj😍😘</td>\n",
       "      <td>0</td>\n",
       "    </tr>\n",
       "  </tbody>\n",
       "</table>\n",
       "</div>"
      ],
      "text/plain": [
       "                                         Treinamento  Classificacao\n",
       "0  quer fazer sua mulher feliz? come ela e da um ...              2\n",
       "1  @kimkataguiri que merda estão inventando, kim ...              0\n",
       "2  alguém tem o link de spotify hackeado pra iphone?              0\n",
       "3  @adr1nztte @charlidamelio mn pelo menos eu ain...              0\n",
       "4           favela venceu e meu iphone tá vindo hj😍😘              0"
      ]
     },
     "metadata": {},
     "execution_count": 102
    }
   ],
   "metadata": {}
  },
  {
   "cell_type": "code",
   "execution_count": 103,
   "source": [
    "test = pd.read_excel(filename, sheet_name = 'Teste')\r\n",
    "test.head(5)"
   ],
   "outputs": [
    {
     "output_type": "execute_result",
     "data": {
      "text/html": [
       "<div>\n",
       "<style scoped>\n",
       "    .dataframe tbody tr th:only-of-type {\n",
       "        vertical-align: middle;\n",
       "    }\n",
       "\n",
       "    .dataframe tbody tr th {\n",
       "        vertical-align: top;\n",
       "    }\n",
       "\n",
       "    .dataframe thead th {\n",
       "        text-align: right;\n",
       "    }\n",
       "</style>\n",
       "<table border=\"1\" class=\"dataframe\">\n",
       "  <thead>\n",
       "    <tr style=\"text-align: right;\">\n",
       "      <th></th>\n",
       "      <th>Teste</th>\n",
       "      <th>Classificacao</th>\n",
       "    </tr>\n",
       "  </thead>\n",
       "  <tbody>\n",
       "    <tr>\n",
       "      <th>0</th>\n",
       "      <td>meu patrão quer que eu pego o iphone 12 pró ma...</td>\n",
       "      <td>0</td>\n",
       "    </tr>\n",
       "    <tr>\n",
       "      <th>1</th>\n",
       "      <td>comprei um m62 e vendi meu iphone me sinto com...</td>\n",
       "      <td>0</td>\n",
       "    </tr>\n",
       "    <tr>\n",
       "      <th>2</th>\n",
       "      <td>@omardodeboche @marcosrojerio2 @isabeledacpi e...</td>\n",
       "      <td>0</td>\n",
       "    </tr>\n",
       "    <tr>\n",
       "      <th>3</th>\n",
       "      <td>alguém que tenha o iphone 7 plus, sabe me dize...</td>\n",
       "      <td>0</td>\n",
       "    </tr>\n",
       "    <tr>\n",
       "      <th>4</th>\n",
       "      <td>se algum amg gostasse de mim de vdd me dava um...</td>\n",
       "      <td>2</td>\n",
       "    </tr>\n",
       "  </tbody>\n",
       "</table>\n",
       "</div>"
      ],
      "text/plain": [
       "                                               Teste  Classificacao\n",
       "0  meu patrão quer que eu pego o iphone 12 pró ma...              0\n",
       "1  comprei um m62 e vendi meu iphone me sinto com...              0\n",
       "2  @omardodeboche @marcosrojerio2 @isabeledacpi e...              0\n",
       "3  alguém que tenha o iphone 7 plus, sabe me dize...              0\n",
       "4  se algum amg gostasse de mim de vdd me dava um...              2"
      ]
     },
     "metadata": {},
     "execution_count": 103
    }
   ],
   "metadata": {}
  },
  {
   "cell_type": "markdown",
   "source": [
    "___\n",
    "## Classificador automático de sentimento\n"
   ],
   "metadata": {}
  },
  {
   "cell_type": "markdown",
   "source": [
    "Faça aqui uma descrição do seu produto e o que considerou como relevante ou não relevante na classificação dos tweets.\r\n",
    "\r\n",
    "O produto escolhido foi o Iphone e consideramos tweets que demonstrassem a opinião popular referente ao iphone como sendo os tweets mais relevantes. Especificamente, consideramos a opinião popular quanto à características do próprio iphone, como câmera, bateria (elementos do hardware) e também caracteísticas mais subjetivas como o preço. Tweets que se distanciassem desses critérios de relevância foram avaliados como menos relevantes (evidentemente)."
   ],
   "metadata": {}
  },
  {
   "cell_type": "markdown",
   "source": [
    "___\n",
    "### Montando um Classificador Naive-Bayes\n",
    "\n",
    "Considerando apenas as mensagens da planilha Treinamento, ensine  seu classificador."
   ],
   "metadata": {}
  },
  {
   "cell_type": "code",
   "execution_count": 104,
   "source": [
    "def cleanup(text):\r\n",
    "    \"\"\"\r\n",
    "        Função de limpeza muito simples que troca alguns sinais básicos por espaços -- extraída da aula 7, melhorar para removerr toda ponutacao e emojis\r\n",
    "    \"\"\"\r\n",
    "    #import string\r\n",
    "    punctuation = '[!-.:?;]' # Note que os sinais [] são delimitadores de um conjunto.\r\n",
    "    pattern = re.compile(punctuation)\r\n",
    "    text_subbed = re.sub(pattern, '', text)\r\n",
    "    return text_subbed.lower()\r\n",
    "\r\n",
    "\r\n",
    "\r\n",
    "opiniao = train.loc[(train[\"Classificacao\"] == 3) | (train[\"Classificacao\"] == 2),:]\r\n",
    "nao_opiniao = train.loc[(train[\"Classificacao\"] == 0) | (train[\"Classificacao\"] == 1),:]\r\n",
    "\r\n",
    "\r\n",
    "lista_tweets_limpa = [cleanup(tweet) for tweet in train[\"Treinamento\"].to_list()]\r\n",
    "\r\n",
    "texto_opiniao_limpo = cleanup(\" \".join(opiniao[\"Treinamento\"].to_list()))\r\n",
    "texto_nao_opiniao_limpo = cleanup(\" \".join(nao_opiniao[\"Treinamento\"].to_list()))\r\n",
    "\r\n",
    "\r\n",
    "lista_palavras_opiniao = texto_opiniao_limpo.split(\" \")\r\n",
    "lista_palavras_nao_opiniao = texto_nao_opiniao_limpo.split(\" \")\r\n",
    "\r\n",
    "\r\n",
    "palavras_opiniao = \" \".join(lista_palavras_opiniao)\r\n",
    "palavras_nao_opiniao = \" \".join(lista_palavras_nao_opiniao)\r\n",
    "\r\n",
    "\r\n",
    "\r\n",
    "lista_palavras_relativa_opiniao = pd.Series(lista_palavras_opiniao).value_counts(normalize=True)\r\n",
    "lista_palavras_relativa_nao_opiniao = pd.Series(lista_palavras_nao_opiniao).value_counts(normalize=True)\r\n",
    "\r\n",
    "\r\n",
    "#preciso remover stopwords e @ das primeiras listas\r\n",
    "\r\n",
    "prior_op = len(lista_palavras_opiniao)/(len(lista_palavras_opiniao)+len(lista_palavras_nao_opiniao))\r\n",
    "prior_nop = len(lista_palavras_nao_opiniao)/(len(lista_palavras_opiniao)+len(lista_palavras_nao_opiniao))\r\n",
    "\r\n",
    "def classify(tweet):\r\n",
    "    palavras_tweet = tweet.split(\" \")\r\n",
    "    p_opiniao = []\r\n",
    "    pn_opiniao = []\r\n",
    "    for palavra in palavras_tweet:\r\n",
    "        if palavra in lista_palavras_relativa_opiniao:\r\n",
    "            p_opiniao.append(lista_palavras_relativa_opiniao[palavra]+1)\r\n",
    "        else:\r\n",
    "            p_opiniao.append(1)\r\n",
    "        if palavra in lista_palavras_relativa_nao_opiniao:\r\n",
    "            pn_opiniao.append(lista_palavras_relativa_nao_opiniao[palavra]+1)\r\n",
    "        else:\r\n",
    "            pn_opiniao.append(1)\r\n",
    "    p_opiniao_resultado = np.prod(p_opiniao)*prior_op\r\n",
    "    pn_opiniao_resultado = np.prod(pn_opiniao)*prior_nop\r\n",
    "    if p_opiniao_resultado >= pn_opiniao_resultado:\r\n",
    "        return \"Opinião\"\r\n",
    "    else:\r\n",
    "        return \"Isento\"\r\n",
    "\r\n",
    "lista_tags = []\r\n",
    "\r\n",
    "for tweet in lista_tweets_limpa:\r\n",
    "    tag = classify(tweet)\r\n",
    "    lista_tags.append(tag)\r\n",
    "\r\n",
    "train[\"Tag\"] = lista_tags\r\n",
    "\r\n",
    "print(prior_nop)\r\n",
    "print(prior_op)\r\n",
    "print(len(train.loc[train[\"Tag\"]==\"Opinião\",:]))\r\n",
    "print(len(train.loc[train[\"Tag\"]==\"Isento\",:]))\r\n",
    "\r\n"
   ],
   "outputs": [
    {
     "output_type": "stream",
     "name": "stdout",
     "text": [
      "0.760941212539281\n",
      "0.23905878746071893\n",
      "0\n",
      "750\n"
     ]
    }
   ],
   "metadata": {}
  },
  {
   "cell_type": "code",
   "execution_count": null,
   "source": [],
   "outputs": [],
   "metadata": {}
  },
  {
   "cell_type": "code",
   "execution_count": null,
   "source": [],
   "outputs": [],
   "metadata": {}
  },
  {
   "cell_type": "markdown",
   "source": [
    "___\n",
    "### Verificando a performance do Classificador\n",
    "\n",
    "Agora você deve testar o seu classificador com a base de Testes."
   ],
   "metadata": {}
  },
  {
   "cell_type": "code",
   "execution_count": null,
   "source": [],
   "outputs": [],
   "metadata": {}
  },
  {
   "cell_type": "code",
   "execution_count": null,
   "source": [],
   "outputs": [],
   "metadata": {}
  },
  {
   "cell_type": "code",
   "execution_count": null,
   "source": [],
   "outputs": [],
   "metadata": {}
  },
  {
   "cell_type": "markdown",
   "source": [
    "___\n",
    "### Concluindo"
   ],
   "metadata": {}
  },
  {
   "cell_type": "code",
   "execution_count": null,
   "source": [],
   "outputs": [],
   "metadata": {}
  },
  {
   "cell_type": "code",
   "execution_count": null,
   "source": [],
   "outputs": [],
   "metadata": {}
  },
  {
   "cell_type": "code",
   "execution_count": null,
   "source": [],
   "outputs": [],
   "metadata": {}
  },
  {
   "cell_type": "markdown",
   "source": [
    "___\n",
    "### Qualidade do Classificador a partir de novas separações dos tweets entre Treinamento e Teste\n",
    "\n",
    "Caso for fazer esse item do Projeto"
   ],
   "metadata": {}
  },
  {
   "cell_type": "code",
   "execution_count": null,
   "source": [],
   "outputs": [],
   "metadata": {}
  },
  {
   "cell_type": "code",
   "execution_count": null,
   "source": [],
   "outputs": [],
   "metadata": {}
  },
  {
   "cell_type": "code",
   "execution_count": null,
   "source": [],
   "outputs": [],
   "metadata": {}
  },
  {
   "cell_type": "markdown",
   "source": [
    "___\n",
    "## Aperfeiçoamento:\n",
    "\n",
    "Trabalhos que conseguirem pelo menos conceito B vão evoluir em conceito dependendo da quantidade de itens avançados:\n",
    "\n",
    "* IMPLEMENTOU outras limpezas e transformações que não afetem a qualidade da informação contida nos tweets. Ex: stemming, lemmatization, stopwords\n",
    "* CORRIGIU separação de espaços entre palavras e emojis ou entre emojis e emojis\n",
    "* CRIOU categorias intermediárias de relevância baseadas na probabilidade: ex.: muito relevante, relevante, neutro, irrelevante, muito irrelevante. Pelo menos quatro categorias, com adição de mais tweets na base, conforme enunciado. (OBRIGATÓRIO PARA TRIOS, sem contar como item avançado)\n",
    "* EXPLICOU porquê não pode usar o próprio classificador para gerar mais amostras de treinamento\n",
    "* PROPÔS diferentes cenários para Naïve Bayes fora do contexto do projeto\n",
    "* SUGERIU e EXPLICOU melhorias reais com indicações concretas de como implementar (indicar como fazer e indicar material de pesquisa)\n",
    "* FEZ o item 6. Qualidade do Classificador a partir de novas separações dos tweets entre Treinamento e Teste descrito no enunciado do projeto (OBRIGATÓRIO para conceitos A ou A+)"
   ],
   "metadata": {},
   "attachments": {}
  },
  {
   "cell_type": "markdown",
   "source": [
    "___\n",
    "## Referências"
   ],
   "metadata": {}
  },
  {
   "cell_type": "markdown",
   "source": [
    "[Naive Bayes and Text Classification](https://arxiv.org/pdf/1410.5329.pdf)  **Mais completo**\n",
    "\n",
    "[A practical explanation of a Naive Bayes Classifier](https://monkeylearn.com/blog/practical-explanation-naive-bayes-classifier/) **Mais simples**"
   ],
   "metadata": {}
  },
  {
   "cell_type": "code",
   "execution_count": null,
   "source": [],
   "outputs": [],
   "metadata": {}
  }
 ],
 "metadata": {
  "kernelspec": {
   "name": "python3",
   "display_name": "Python 3.9.5 64-bit"
  },
  "language_info": {
   "codemirror_mode": {
    "name": "ipython",
    "version": 3
   },
   "file_extension": ".py",
   "mimetype": "text/x-python",
   "name": "python",
   "nbconvert_exporter": "python",
   "pygments_lexer": "ipython3",
   "version": "3.9.5"
  },
  "interpreter": {
   "hash": "758144652f02702e132193def3e43e4e5577c8c930edf4124e6012965d27d0ae"
  }
 },
 "nbformat": 4,
 "nbformat_minor": 4
}